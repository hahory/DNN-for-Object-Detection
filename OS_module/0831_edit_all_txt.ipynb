{
 "cells": [
  {
   "cell_type": "markdown",
   "metadata": {},
   "source": [
    "폴더 내 여러 파일 열어 한번에 편집하기\n",
    "(여기서는 scooter(1)로 표시된 클래스도 있음을 확인하고(단 2개 파일) 이들도 변경)"
   ]
  },
  {
   "cell_type": "code",
   "execution_count": 10,
   "metadata": {},
   "outputs": [],
   "source": [
    "import glob\n",
    "import os, re #re-파이썬에서 정규 표현식을 사용하기 위한 모듈\n",
    "\n",
    "# 폴더내 txt파일 모두 불러오기\n",
    "file_list=glob.glob('/Users/ejju/Desktop/개발자대회_WISET/ju/electricscooter_images_for_roboflow_txt_edited/*.txt')\n",
    "file_list=sorted(file_list)\n",
    "\n",
    "for file in file_list:\n",
    "    open_file = open(file,'r')\n",
    "    read_file = open_file.read()\n",
    "    regex = re.compile('scooter')\n",
    "    read_file = regex.sub('electricscooter', read_file)\n",
    "    write_file = open(file,'w')\n",
    "    write_file.write(read_file)"
   ]
  },
  {
   "cell_type": "code",
   "execution_count": 11,
   "metadata": {},
   "outputs": [],
   "source": [
    "# # 폴더내 txt파일 모두 불러오기\n",
    "# file_list=glob.glob('/Users/ejju/Desktop/개발자대회_WISET/ju/electricscooter_images_for_roboflow_txt_editing/*.txt')\n",
    "# file_list=sorted(file_list)\n",
    "\n",
    "for file in file_list:\n",
    "    open_file = open(file,'r')\n",
    "    read_file = open_file.read()\n",
    "    regex = re.compile('scooter(1)')#scooter(1)로 표시된 클래스도 변경\n",
    "    read_file = regex.sub('electricscooter', read_file)\n",
    "    write_file = open(file,'w')\n",
    "    write_file.write(read_file)"
   ]
  }
 ],
 "metadata": {
  "kernelspec": {
   "display_name": "Python 3.9.7 ('base')",
   "language": "python",
   "name": "python3"
  },
  "language_info": {
   "codemirror_mode": {
    "name": "ipython",
    "version": 3
   },
   "file_extension": ".py",
   "mimetype": "text/x-python",
   "name": "python",
   "nbconvert_exporter": "python",
   "pygments_lexer": "ipython3",
   "version": "3.9.7"
  },
  "orig_nbformat": 4,
  "vscode": {
   "interpreter": {
    "hash": "c1de356c01870b1905353d93fb5b08e9dac708fcd7a1cb7f129b78550db01998"
   }
  }
 },
 "nbformat": 4,
 "nbformat_minor": 2
}
