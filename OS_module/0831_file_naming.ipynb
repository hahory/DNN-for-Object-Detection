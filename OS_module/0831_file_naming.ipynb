{
 "cells": [
  {
   "cell_type": "markdown",
   "metadata": {},
   "source": [
    "여러 파일 이름 한번에 변경하기(1.jpg, 2.jpg, 3.jpg식으로..)\n",
    "여기서는 다른 풀더와 합쳐주기 전 파일명이 중복되는 파일들이 있어서 서로 다른 이름으로 변경해주기 위해 진행함"
   ]
  },
  {
   "cell_type": "code",
   "execution_count": 3,
   "metadata": {},
   "outputs": [
    {
     "name": "stdout",
     "output_type": "stream",
     "text": [
      "127\n"
     ]
    },
    {
     "data": {
      "text/plain": [
       "['63.jpg',\n",
       " '189.jpg',\n",
       " '77.jpg',\n",
       " '162.jpg',\n",
       " '176.jpg',\n",
       " '88.jpg',\n",
       " '214.jpg',\n",
       " '200.jpg',\n",
       " '201.jpg',\n",
       " '215.jpg',\n",
       " '177.jpg',\n",
       " '89.jpg',\n",
       " '163.jpg',\n",
       " '188.jpg',\n",
       " '76.jpg',\n",
       " '62.jpg',\n",
       " '74.jpg',\n",
       " '60.jpg',\n",
       " '48.jpg',\n",
       " '149.jpg',\n",
       " '175.jpg',\n",
       " '161.jpg',\n",
       " '203.jpg',\n",
       " '217.jpg',\n",
       " '216.jpg',\n",
       " '202.jpg',\n",
       " '160.jpg',\n",
       " '174.jpg',\n",
       " '148.jpg',\n",
       " '49.jpg',\n",
       " '61.jpg',\n",
       " '75.jpg',\n",
       " '59.jpg',\n",
       " '71.jpg',\n",
       " '65.jpg',\n",
       " '170.jpg',\n",
       " '164.jpg',\n",
       " '158.jpg',\n",
       " '206.jpg',\n",
       " '212.jpg',\n",
       " '213.jpg',\n",
       " '207.jpg',\n",
       " '159.jpg',\n",
       " '165.jpg',\n",
       " '171.jpg',\n",
       " '64.jpg',\n",
       " '70.jpg',\n",
       " '58.jpg',\n",
       " '198.jpg',\n",
       " '66.jpg',\n",
       " '72.jpg',\n",
       " '167.jpg',\n",
       " '99.jpg',\n",
       " '173.jpg',\n",
       " '211.jpg',\n",
       " '205.jpg',\n",
       " '204.jpg',\n",
       " '210.jpg',\n",
       " '172.jpg',\n",
       " '166.jpg',\n",
       " '98.jpg',\n",
       " '73.jpg',\n",
       " '199.jpg',\n",
       " '67.jpg',\n",
       " '129.jpg',\n",
       " '101.jpg',\n",
       " '115.jpg',\n",
       " '114.jpg',\n",
       " '100.jpg',\n",
       " '128.jpg',\n",
       " '116.jpg',\n",
       " '102.jpg',\n",
       " '103.jpg',\n",
       " '117.jpg',\n",
       " '113.jpg',\n",
       " '107.jpg',\n",
       " '106.jpg',\n",
       " '112.jpg',\n",
       " '104.jpg',\n",
       " '110.jpg',\n",
       " '138.jpg',\n",
       " '139.jpg',\n",
       " '111.jpg',\n",
       " '105.jpg',\n",
       " '108.jpg',\n",
       " '120.jpg',\n",
       " '134.jpg',\n",
       " '135.jpg',\n",
       " '121.jpg',\n",
       " '109.jpg',\n",
       " '137.jpg',\n",
       " '123.jpg',\n",
       " '122.jpg',\n",
       " '136.jpg',\n",
       " '132.jpg',\n",
       " '126.jpg',\n",
       " '127.jpg',\n",
       " '133.jpg',\n",
       " '131.jpg',\n",
       " '180.jpg',\n",
       " '194.jpg',\n",
       " '143.jpg',\n",
       " '157.jpg',\n",
       " '209.jpg',\n",
       " '221.jpg',\n",
       " '220.jpg',\n",
       " '208.jpg',\n",
       " '156.jpg',\n",
       " '195.jpg',\n",
       " '181.jpg',\n",
       " '197.jpg',\n",
       " '183.jpg',\n",
       " '168.jpg',\n",
       " '82.jpg',\n",
       " '222.jpg',\n",
       " '223.jpg',\n",
       " '182.jpg',\n",
       " '196.jpg',\n",
       " '192.jpg',\n",
       " '186.jpg',\n",
       " '227.jpg',\n",
       " '226.jpg',\n",
       " '144.jpg',\n",
       " '224.jpg',\n",
       " '218.jpg',\n",
       " '219.jpg',\n",
       " '225.jpg']"
      ]
     },
     "execution_count": 3,
     "metadata": {},
     "output_type": "execute_result"
    }
   ],
   "source": [
    "import os\n",
    "\n",
    "#파일이 있는 폴더에 접근\n",
    "# 주어진 디렉토리에 있는 항목들의 이름을 담고 있는 리스트를 반환합니다.\n",
    "# 리스트는 임의의 순서대로 나열됩니다.\n",
    "file_path = '/Users/ejju/Desktop/개발자대회_WISET/ju/image_crawling/electricscooter'\n",
    "file_names = os.listdir(file_path)\n",
    "print(len(file_names))\n",
    "file_names"
   ]
  },
  {
   "cell_type": "code",
   "execution_count": 6,
   "metadata": {},
   "outputs": [],
   "source": [
    "new_file_path='/Users/ejju/Desktop/개발자대회_WISET/ju/image_crawling/final_electricscooter'\n",
    "i = 1\n",
    "for name in file_names:\n",
    "    src = os.path.join(file_path, name)\n",
    "    dst = str(i) + '.jpg'\n",
    "    dst = os.path.join(new_file_path, dst)\n",
    "    os.rename(src, dst)\n",
    "    i += 1"
   ]
  },
  {
   "cell_type": "code",
   "execution_count": 7,
   "metadata": {},
   "outputs": [
    {
     "name": "stdout",
     "output_type": "stream",
     "text": [
      "135\n"
     ]
    }
   ],
   "source": [
    "#파일 시작 넘버 설정 주의!!!!!!!!!!!!!!\n",
    "#import os\n",
    "\n",
    "#파일이 있는 폴더에 접근\n",
    "# 주어진 디렉토리에 있는 항목들의 이름을 담고 있는 리스트를 반환합니다.\n",
    "# 리스트는 임의의 순서대로 나열됩니다.\n",
    "file_path = '/Users/ejju/Desktop/개발자대회_WISET/ju/image_crawling/electricscooter2'\n",
    "file_names = os.listdir(file_path)\n",
    "print(len(file_names))\n",
    "\n",
    "new_file_path='/Users/ejju/Desktop/개발자대회_WISET/ju/image_crawling/final_electricscooter'\n",
    "i = 128\n",
    "for name in file_names:\n",
    "    src = os.path.join(file_path, name)\n",
    "    dst = str(i) + '.jpg'\n",
    "    dst = os.path.join(new_file_path, dst)\n",
    "    os.rename(src, dst)\n",
    "    i += 1"
   ]
  }
 ],
 "metadata": {
  "kernelspec": {
   "display_name": "Python 3.9.7 ('base')",
   "language": "python",
   "name": "python3"
  },
  "language_info": {
   "codemirror_mode": {
    "name": "ipython",
    "version": 3
   },
   "file_extension": ".py",
   "mimetype": "text/x-python",
   "name": "python",
   "nbconvert_exporter": "python",
   "pygments_lexer": "ipython3",
   "version": "3.9.7"
  },
  "orig_nbformat": 4,
  "vscode": {
   "interpreter": {
    "hash": "c1de356c01870b1905353d93fb5b08e9dac708fcd7a1cb7f129b78550db01998"
   }
  }
 },
 "nbformat": 4,
 "nbformat_minor": 2
}
