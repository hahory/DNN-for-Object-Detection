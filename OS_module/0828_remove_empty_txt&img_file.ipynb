{
 "cells": [
  {
   "cell_type": "markdown",
   "metadata": {},
   "source": [
    "폴더 내 빈 파일을 삭제(여기서는 같은 이름을 가진 이미지파일도 함께 삭제)"
   ]
  },
  {
   "cell_type": "code",
   "execution_count": null,
   "metadata": {},
   "outputs": [],
   "source": [
    "import os\n",
    "import glob\n",
    "\n",
    "#폴더 내 bollard image가 몇 개있는지 확인하기\n",
    "txt_files=glob.glob('/Users/ejju/Desktop/개발자대회_WISET/ju/bollard_raw_name_all_txt_files/*.txt')\n",
    "txt_files=sorted(txt_files)\n",
    "print('Total number of images:',len(txt_files))\n",
    "\n",
    "count=0\n",
    "for file in txt_files:\n",
    "    if os.path.getsize(file)==0:       \n",
    "        count+=1\n",
    "        \n",
    "print('Number of empty file:',count)\n",
    "print('Number of bollard image:',len(txt_files)-count)\n",
    "\n",
    "# 빈 txt파일 찾고 빈 파일은 삭제\n",
    "# 삭제된 파일과 이름이 같은 .jpg파일도 삭제하기 \n",
    "for file in txt_files:\n",
    "    if os.path.getsize(file)==0:       \n",
    "        os.remove(file)\n",
    "        name=file.split('.')[0]\n",
    "        os.remove(name+'.jpg')"
   ]
  }
 ],
 "metadata": {
  "kernelspec": {
   "display_name": "Python 3.9.7 ('base')",
   "language": "python",
   "name": "python3"
  },
  "language_info": {
   "codemirror_mode": {
    "name": "ipython",
    "version": 3
   },
   "file_extension": ".py",
   "mimetype": "text/x-python",
   "name": "python",
   "nbconvert_exporter": "python",
   "pygments_lexer": "ipython3",
   "version": "3.9.7"
  },
  "orig_nbformat": 4,
  "vscode": {
   "interpreter": {
    "hash": "c1de356c01870b1905353d93fb5b08e9dac708fcd7a1cb7f129b78550db01998"
   }
  }
 },
 "nbformat": 4,
 "nbformat_minor": 2
}
