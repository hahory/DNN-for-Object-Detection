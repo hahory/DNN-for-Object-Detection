{
 "cells": [
  {
   "cell_type": "markdown",
   "metadata": {},
   "source": [
    "폴더 내 빈 파일을 삭제(여기서는 같은 이름을 가진 이미지파일도 함께 삭제)\n",
    "3개 폴더에 대해 같은 코드로 진행 함\n",
    "txt_files단계에서 for문으로 여러 폴더 txt파일 한번에 불러와서 진행했더라면 코드 더 단순해졌을 것임;;;"
   ]
  },
  {
   "cell_type": "code",
   "execution_count": null,
   "metadata": {},
   "outputs": [],
   "source": [
    "# 4개의 클래스를 포함하지 않는 이미지는 빈 txt파일을 생성했을 것이며 이는 삭제해줘야 roboflow에 업로드시 unannotated image를 처리해주는 작업이 불필요하므로 편할 것임\n",
    "import os\n",
    "import glob\n",
    "# 폴더 내 파일 모두 불러오기\n",
    "txt_files=glob.glob('/Users/ejju/Desktop/개발자대회_WISET/ju/final_4classesRoboflow2600images/imagesAndTxt/1/*.txt')\n",
    "txt_files=sorted(txt_files)\n",
    "\n",
    "# 빈 txt파일 찾고 빈 파일은 삭제\n",
    "# 삭제된 파일과 이름이 같은 .jpg파일도 삭제하기 \n",
    "for file in txt_files:\n",
    "    if os.path.getsize(file)==0:       \n",
    "        os.remove(file)\n",
    "        name=file.split('.')[0]\n",
    "        os.remove(name+'.jpg')"
   ]
  },
  {
   "cell_type": "code",
   "execution_count": 2,
   "metadata": {},
   "outputs": [],
   "source": [
    "# 폴더 내 파일 모두 불러오기\n",
    "txt_files=glob.glob('/Users/ejju/Desktop/개발자대회_WISET/ju/final_4classesRoboflow2600images/imagesAndTxt/2/*.txt')\n",
    "txt_files=sorted(txt_files)\n",
    "\n",
    "# 빈 txt파일 찾고 빈 파일은 삭제\n",
    "# 삭제된 파일과 이름이 같은 .jpg파일도 삭제하기 \n",
    "for file in txt_files:\n",
    "    if os.path.getsize(file)==0:       \n",
    "        os.remove(file)\n",
    "        name=file.split('.')[0]\n",
    "        os.remove(name+'.jpg')     \n",
    "    "
   ]
  },
  {
   "cell_type": "code",
   "execution_count": 3,
   "metadata": {},
   "outputs": [],
   "source": [
    "# 폴더 내 파일 모두 불러오기\n",
    "txt_files=glob.glob('/Users/ejju/Desktop/개발자대회_WISET/ju/final_4classesRoboflow2600images/imagesAndTxt/3/*.txt')\n",
    "txt_files=sorted(txt_files)\n",
    "\n",
    "# 빈 txt파일 찾고 빈 파일은 삭제\n",
    "# 삭제된 파일과 이름이 같은 .jpg파일도 삭제하기 \n",
    "for file in txt_files:\n",
    "    if os.path.getsize(file)==0:       \n",
    "        os.remove(file)\n",
    "        name=file.split('.')[0]\n",
    "        os.remove(name+'.jpg') "
   ]
  }
 ],
 "metadata": {
  "kernelspec": {
   "display_name": "Python 3.9.7 ('base')",
   "language": "python",
   "name": "python3"
  },
  "language_info": {
   "codemirror_mode": {
    "name": "ipython",
    "version": 3
   },
   "file_extension": ".py",
   "mimetype": "text/x-python",
   "name": "python",
   "nbconvert_exporter": "python",
   "pygments_lexer": "ipython3",
   "version": "3.9.7"
  },
  "orig_nbformat": 4,
  "vscode": {
   "interpreter": {
    "hash": "c1de356c01870b1905353d93fb5b08e9dac708fcd7a1cb7f129b78550db01998"
   }
  }
 },
 "nbformat": 4,
 "nbformat_minor": 2
}
